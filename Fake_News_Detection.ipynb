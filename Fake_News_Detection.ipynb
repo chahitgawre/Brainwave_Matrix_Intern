{
  "nbformat": 4,
  "nbformat_minor": 0,
  "metadata": {
    "colab": {
      "provenance": []
    },
    "kernelspec": {
      "name": "python3",
      "display_name": "Python 3"
    },
    "language_info": {
      "name": "python"
    }
  },
  "cells": [
    {
      "cell_type": "markdown",
      "source": [
        "NAME - **CHAHIT KUMAR GAWARE**\n",
        "\n",
        "\n",
        "TASK - Fake News Detection"
      ],
      "metadata": {
        "id": "rUVhsy92X71Q"
      }
    },
    {
      "cell_type": "code",
      "source": [
        "import os\n",
        "import pandas as pd\n",
        "from sklearn.model_selection import train_test_split\n",
        "from sklearn.feature_extraction.text import TfidfVectorizer\n",
        "from sklearn.linear_model import LogisticRegression\n",
        "from sklearn.metrics import accuracy_score, confusion_matrix, classification_report\n",
        "import joblib  # Import joblib for saving the model\n",
        "\n",
        "# Function to load and concatenate the dataset CSV files\n",
        "def load_fakenewsnet_data(base_path):\n",
        "    politifact_fake_path = os.path.join(base_path, 'politifact_fake.csv')\n",
        "    politifact_real_path = os.path.join(base_path, 'politifact_real.csv')\n",
        "    gossipcop_fake_path = os.path.join(base_path, 'gossipcop_fake.csv')\n",
        "    gossipcop_real_path = os.path.join(base_path, 'gossipcop_real.csv')\n",
        "\n",
        "    politifact_fake = pd.read_csv(politifact_fake_path)\n",
        "    politifact_real = pd.read_csv(politifact_real_path)\n",
        "    gossipcop_fake = pd.read_csv(gossipcop_fake_path)\n",
        "    gossipcop_real = pd.read_csv(gossipcop_real_path)\n",
        "\n",
        "    politifact_fake['label'] = 0\n",
        "    politifact_real['label'] = 1\n",
        "    gossipcop_fake['label'] = 0\n",
        "    gossipcop_real['label'] = 1\n",
        "\n",
        "    df = pd.concat([politifact_fake, politifact_real, gossipcop_fake, gossipcop_real], ignore_index=True)\n",
        "    df = df[['title', 'label']]\n",
        "\n",
        "    return df\n",
        "\n",
        "# Load dataset\n",
        "base_path = '/content/drive/MyDrive/Colab_Notebooks/FakeNewsNet_master/FakeNewsNet_master/dataset'\n",
        "df = load_fakenewsnet_data(base_path)\n",
        "\n",
        "df.dropna(subset=['title'], inplace=True)\n",
        "\n",
        "X_train, X_test, y_train, y_test = train_test_split(df['title'], df['label'], test_size=0.1, random_state=48)\n",
        "\n",
        "tfidf_vectorizer = TfidfVectorizer(max_features=1000000)\n",
        "X_train_tfidf = tfidf_vectorizer.fit_transform(X_train)\n",
        "X_test_tfidf = tfidf_vectorizer.transform(X_test)\n",
        "\n",
        "model = LogisticRegression(max_iter=10000)\n",
        "model.fit(X_train_tfidf, y_train)\n",
        "\n",
        "y_pred = model.predict(X_test_tfidf)\n",
        "\n",
        "print(\"Accuracy:\", accuracy_score(y_test, y_pred))\n",
        "print(\"\\nConfusion Matrix:\\n\", confusion_matrix(y_test, y_pred))\n",
        "print(\"\\nClassification Report:\\n\", classification_report(y_test, y_pred))\n",
        "\n",
        "# Save the model and the TF-IDF vectorizer\n",
        "model_file = \"fake_news_detection_model.pkl\"\n",
        "vectorizer_file = \"tfidf_vectorizer.pkl\"\n",
        "joblib.dump(model, model_file)\n",
        "joblib.dump(tfidf_vectorizer, vectorizer_file)\n",
        "print(f\"Model saved to {model_file}\")\n",
        "print(f\"TF-IDF vectorizer saved to {vectorizer_file}\")\n"
      ],
      "metadata": {
        "colab": {
          "base_uri": "https://localhost:8080/"
        },
        "id": "jMZOOdrzjZKY",
        "outputId": "a26d03c9-7f2f-4e5c-dd58-3252d5b43000"
      },
      "execution_count": null,
      "outputs": [
        {
          "output_type": "stream",
          "name": "stdout",
          "text": [
            "Accuracy: 0.8564655172413793\n",
            "\n",
            "Confusion Matrix:\n",
            " [[ 267  287]\n",
            " [  46 1720]]\n",
            "\n",
            "Classification Report:\n",
            "               precision    recall  f1-score   support\n",
            "\n",
            "           0       0.85      0.48      0.62       554\n",
            "           1       0.86      0.97      0.91      1766\n",
            "\n",
            "    accuracy                           0.86      2320\n",
            "   macro avg       0.86      0.73      0.76      2320\n",
            "weighted avg       0.86      0.86      0.84      2320\n",
            "\n",
            "Model saved to fake_news_detection_model.pkl\n",
            "TF-IDF vectorizer saved to tfidf_vectorizer.pkl\n"
          ]
        }
      ]
    },
    {
      "cell_type": "code",
      "source": [
        "import joblib\n",
        "\n",
        "# Load the saved model and vectorizer\n",
        "model_file = \"fake_news_detection_model.pkl\"\n",
        "vectorizer_file = \"tfidf_vectorizer.pkl\"\n",
        "\n",
        "model = joblib.load(model_file)\n",
        "tfidf_vectorizer = joblib.load(vectorizer_file)\n",
        "\n",
        "# Function to predict if the news is fake or real\n",
        "def predict_news(news_text):\n",
        "    # Transform the input text using the saved TF-IDF vectorizer\n",
        "    transformed_text = tfidf_vectorizer.transform([news_text])\n",
        "\n",
        "    # Predict using the saved model\n",
        "    prediction = model.predict(transformed_text)\n",
        "\n",
        "    # Return the label based on the prediction\n",
        "    return 'Fake' if prediction == 0 else 'Real'\n",
        "\n",
        "# Example usage: Predict on a sample news article\n",
        "sample_news = \"Vishnu Deo Sai is chhattisgarh's new cm.\"\n",
        "prediction = predict_news(sample_news)\n",
        "print(f\"The news is predicted to be: {prediction}\")\n"
      ],
      "metadata": {
        "id": "LGJ2IWBpzGz6",
        "colab": {
          "base_uri": "https://localhost:8080/"
        },
        "outputId": "7deb53f0-6d12-4220-ea3b-0033c1abab99"
      },
      "execution_count": null,
      "outputs": [
        {
          "output_type": "stream",
          "name": "stdout",
          "text": [
            "The news is predicted to be: Real\n"
          ]
        }
      ]
    }
  ]
}